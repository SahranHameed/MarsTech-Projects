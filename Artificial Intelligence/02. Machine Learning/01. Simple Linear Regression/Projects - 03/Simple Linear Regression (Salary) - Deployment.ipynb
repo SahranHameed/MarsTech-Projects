{
 "cells": [
  {
   "cell_type": "code",
   "execution_count": 3,
   "id": "b79444db-ab23-47bf-a32f-8fe64d71516a",
   "metadata": {},
   "outputs": [],
   "source": [
    "import pickle\n",
    "loaded_model = pickle.load(open(\"finalized_model_linear.sav\",'rb'))"
   ]
  },
  {
   "cell_type": "code",
   "execution_count": 9,
   "id": "19356698-fde4-4820-ad31-c5a1118fa11d",
   "metadata": {},
   "outputs": [
    {
     "name": "stderr",
     "output_type": "stream",
     "text": [
      "C:\\Anaconda\\Lib\\site-packages\\sklearn\\base.py:493: UserWarning: X does not have valid feature names, but LinearRegression was fitted with feature names\n",
      "  warnings.warn(\n"
     ]
    }
   ],
   "source": [
    "result = loaded_model.predict([[10]])"
   ]
  },
  {
   "cell_type": "code",
   "execution_count": 11,
   "id": "d71b39ce-39d4-49de-9044-bf4db6e28447",
   "metadata": {},
   "outputs": [
    {
     "data": {
      "text/plain": [
       "array([[120380.00420313]])"
      ]
     },
     "execution_count": 11,
     "metadata": {},
     "output_type": "execute_result"
    }
   ],
   "source": [
    "result "
   ]
  },
  {
   "cell_type": "code",
   "execution_count": null,
   "id": "8df297b6-aa4f-44ba-89ab-833a5bf8115f",
   "metadata": {},
   "outputs": [],
   "source": []
  }
 ],
 "metadata": {
  "kernelspec": {
   "display_name": "Python [conda env:base] *",
   "language": "python",
   "name": "conda-base-py"
  },
  "language_info": {
   "codemirror_mode": {
    "name": "ipython",
    "version": 3
   },
   "file_extension": ".py",
   "mimetype": "text/x-python",
   "name": "python",
   "nbconvert_exporter": "python",
   "pygments_lexer": "ipython3",
   "version": "3.12.7"
  }
 },
 "nbformat": 4,
 "nbformat_minor": 5
}
